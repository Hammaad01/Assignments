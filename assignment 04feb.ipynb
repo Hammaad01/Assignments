{
 "cells": [
  {
   "cell_type": "markdown",
   "id": "a206bc5c-6a87-4d7b-90dc-1cf38d751a95",
   "metadata": {},
   "source": [
    "'''Write a python program to filter the numbers in a given list that are divisible by 2 and 3 using the\n",
    "filter function.\n",
    "[2, 3, 6, 9, 27, 60, 90, 120, 55, 46]'''"
   ]
  },
  {
   "cell_type": "code",
   "execution_count": 1,
   "id": "fc80d18b-7494-4f39-916e-6134ab5e7bab",
   "metadata": {},
   "outputs": [],
   "source": [
    "my_list=[2, 3, 6, 9, 27, 60, 90, 120, 55, 46]"
   ]
  },
  {
   "cell_type": "code",
   "execution_count": 5,
   "id": "c65149df-bc56-415e-9f4d-97064f64fe80",
   "metadata": {},
   "outputs": [
    {
     "name": "stdout",
     "output_type": "stream",
     "text": [
      "[6, 60, 90, 120]\n"
     ]
    }
   ],
   "source": [
    "def div_by_2_3(my_list):\n",
    "    return (my_list%2==0 and my_list%3==0)\n",
    "filtered_list=list(filter (div_by_2_3, my_list) )\n",
    "print(filtered_list)\n"
   ]
  },
  {
   "cell_type": "markdown",
   "id": "b1b17edc-2b42-4206-8e8a-6de72124279f",
   "metadata": {},
   "source": [
    "Write a Python Program to find the squares of all the numbers in the given list of integers using\n",
    "lambda and map functions.\n",
    "[1, 2, 3, 4, 5, 6, 7, 8, 9, 10]"
   ]
  },
  {
   "cell_type": "code",
   "execution_count": 2,
   "id": "f7dead4f-1453-4735-ac97-082f4df9e062",
   "metadata": {},
   "outputs": [
    {
     "name": "stdout",
     "output_type": "stream",
     "text": [
      "[1, 4, 9, 16, 25, 36, 49, 64, 81, 100]\n"
     ]
    }
   ],
   "source": [
    "s=[1,2,3,4,5,6,7,8,9,10]\n",
    "sq=list(map(lambda s:s**2, s))\n",
    "print(sq)"
   ]
  },
  {
   "cell_type": "markdown",
   "id": "47653498-72f8-4a66-8fbd-97a08ec9081c",
   "metadata": {},
   "source": [
    "Q3. Write a python program to convert the given list of integers into a tuple of strings. Use map and lambda functions"
   ]
  },
  {
   "cell_type": "code",
   "execution_count": 3,
   "id": "6817e567-b026-4f0f-b93f-f82eb072272f",
   "metadata": {},
   "outputs": [],
   "source": [
    "s=[1,2,3,4,5,6,7,8,9,10]"
   ]
  },
  {
   "cell_type": "code",
   "execution_count": 5,
   "id": "9015f60b-8c1b-4757-a14c-a7fd83bc58ce",
   "metadata": {},
   "outputs": [
    {
     "name": "stdout",
     "output_type": "stream",
     "text": [
      "('1', '2', '3', '4', '5', '6', '7', '8', '9', '10')\n"
     ]
    }
   ],
   "source": [
    "a=tuple(map(lambda s: str(s), s))\n",
    "print (a)"
   ]
  },
  {
   "cell_type": "markdown",
   "id": "c665fd84-cd07-4707-80e7-c050739ce2d3",
   "metadata": {},
   "source": [
    "Write a python program to filter the numbers in a given list that are divisible by 2 and 3 using the filter function."
   ]
  },
  {
   "cell_type": "code",
   "execution_count": 12,
   "id": "72ecedf3-04a3-4431-b39f-ecb34afb0fd6",
   "metadata": {},
   "outputs": [
    {
     "name": "stdout",
     "output_type": "stream",
     "text": [
      "[6, 60, 90, 120]\n"
     ]
    }
   ],
   "source": [
    "given_list=[2, 3, 6, 9, 27, 60, 90, 120, 55, 46]\n",
    "def div_by_2_3(given_list):\n",
    "    return (given_list%2==0 and given_list%3==0)\n",
    "new_list=list(filter(div_by_2_3, given_list))\n",
    "print(new_list)"
   ]
  },
  {
   "cell_type": "markdown",
   "id": "fd3c9389-b4ca-44bd-bb0f-a1ecb837b719",
   "metadata": {
    "tags": []
   },
   "source": [
    "Write a python program to find palindromes in the given list of strings using lambda and filter function."
   ]
  },
  {
   "cell_type": "code",
   "execution_count": 13,
   "id": "320e4ad6-9cfe-4a6f-bfdb-bc8560cffa2a",
   "metadata": {},
   "outputs": [],
   "source": [
    "s=['python', 'php', 'aba', 'radar', 'level']"
   ]
  },
  {
   "cell_type": "code",
   "execution_count": 14,
   "id": "e6fba5c4-7a4b-4233-867d-8b8f999ac654",
   "metadata": {},
   "outputs": [
    {
     "ename": "SyntaxError",
     "evalue": "invalid syntax. Perhaps you forgot a comma? (1097378269.py, line 1)",
     "output_type": "error",
     "traceback": [
      "\u001b[0;36m  Cell \u001b[0;32mIn[14], line 1\u001b[0;36m\u001b[0m\n\u001b[0;31m    palindromes= list(filter s: s==s[::-1], s)\u001b[0m\n\u001b[0m                      ^\u001b[0m\n\u001b[0;31mSyntaxError\u001b[0m\u001b[0;31m:\u001b[0m invalid syntax. Perhaps you forgot a comma?\n"
     ]
    }
   ],
   "source": [
    "palindromes= list(filter s: s==s[::-1], s)"
   ]
  },
  {
   "cell_type": "code",
   "execution_count": null,
   "id": "408038d1-e8ab-4ee3-b65f-d9612e8bc24d",
   "metadata": {},
   "outputs": [],
   "source": []
  }
 ],
 "metadata": {
  "kernelspec": {
   "display_name": "Python 3 (ipykernel)",
   "language": "python",
   "name": "python3"
  },
  "language_info": {
   "codemirror_mode": {
    "name": "ipython",
    "version": 3
   },
   "file_extension": ".py",
   "mimetype": "text/x-python",
   "name": "python",
   "nbconvert_exporter": "python",
   "pygments_lexer": "ipython3",
   "version": "3.10.8"
  }
 },
 "nbformat": 4,
 "nbformat_minor": 5
}
