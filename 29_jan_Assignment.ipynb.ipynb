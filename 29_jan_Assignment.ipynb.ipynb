{
 "cells": [
  {
   "cell_type": "markdown",
   "id": "ad8a4596-afb7-421f-8f22-75216c2c262d",
   "metadata": {},
   "source": [
    "Q1. Who developed Python programming language?\n",
    "Ans: Guido Van Rossum developed the Python language."
   ]
  },
  {
   "cell_type": "markdown",
   "id": "4a15eb74-9013-46c9-a636-9b9ba21646b0",
   "metadata": {},
   "source": [
    "Q2. Which Type of programming does Python support?\n",
    "Ans: Python supports object-oriented programming, structured programming and functional programming as well.\n"
   ]
  },
  {
   "cell_type": "markdown",
   "id": "3a6808f8-6010-4ef7-a252-0ecf811d1871",
   "metadata": {},
   "source": [
    "Q3. Is Python case sensitive while dealing with identifiers?\n",
    "Ans: Yes Python is. "
   ]
  },
  {
   "cell_type": "markdown",
   "id": "58061945-a0c8-4bd3-b0b5-e6d6c9f61361",
   "metadata": {},
   "source": [
    "Q4. What is the correct extension of the Python file?\n",
    "Ans. .py"
   ]
  },
  {
   "cell_type": "markdown",
   "id": "7176f757-12a7-4557-a1e0-3cfc1e7e52e2",
   "metadata": {},
   "source": [
    "Q5. Is python code compiled or interpreted?\n",
    "Ans. Both "
   ]
  },
  {
   "cell_type": "markdown",
   "id": "b29b6939-d894-4dee-8bae-502e6b75b3ad",
   "metadata": {
    "tags": []
   },
   "source": [
    "Q6. Name a few blocks of code used to define in python language?\n",
    "Ans. "
   ]
  },
  {
   "cell_type": "markdown",
   "id": "d9c74f66-e0dc-49fb-aa12-2876c5658c88",
   "metadata": {},
   "source": [
    "Q7. State a characted used to give sibgle-lined comment?\n",
    "Ans. #"
   ]
  },
  {
   "cell_type": "markdown",
   "id": "510e53ab-fbbc-438d-9dc5-ffa9c016a0e6",
   "metadata": {},
   "source": [
    "Q8. Mention functions which cn help us find version of python?\n",
    "Ans. sys.version"
   ]
  },
  {
   "cell_type": "markdown",
   "id": "c338f841-40ed-44d1-bd70-8f6bfe09d519",
   "metadata": {},
   "source": [
    "Q9. Python supports the creation of anonymous functions at runtime, using a construct called\n",
    "Ans. Lambda"
   ]
  },
  {
   "cell_type": "markdown",
   "id": "e4fd3610-e73d-4ab0-bd13-eaddff47f8e5",
   "metadata": {},
   "source": [
    "Q10.What does pip stand for python?\n",
    "Ans. Preferred Installer Program"
   ]
  },
  {
   "cell_type": "markdown",
   "id": "c84aa906-57e7-49c7-a6d2-500e738e21fe",
   "metadata": {},
   "source": [
    "Q11. Mention a few builtin functions in python\n",
    "Ans. Int, str, float, type, print, input, count, len, list, append, extend, pop, remove, replace"
   ]
  },
  {
   "cell_type": "markdown",
   "id": "84fd5a74-33a6-4aa7-a4a1-4b88455e2c07",
   "metadata": {},
   "source": [
    "Q12. What is the maximum possible length of a integer in Python?\n",
    "Ans. There is no length defined. It can be as long as we provide. "
   ]
  },
  {
   "cell_type": "markdown",
   "id": "66420bfd-b7f8-48fa-b8e2-e28d25e8d3b0",
   "metadata": {},
   "source": [
    "Q13. What are the benefits of using python?\n",
    "Ans. Python is easy to use, it is very user frindly, it is very easy to learn for beginners as well, it shows the error message where we have done mistake, it shows how a function can be performed if we press Shift+TAB"
   ]
  },
  {
   "cell_type": "markdown",
   "id": "fcb6ed3b-c3c8-41be-94f2-d3ef415cfede",
   "metadata": {},
   "source": [
    "Q14. How is memory managed in python?\n",
    "Ans. It is managed by private heap function."
   ]
  },
  {
   "cell_type": "markdown",
   "id": "700871f2-89d8-4d27-af16-8c6ee7201ee2",
   "metadata": {},
   "source": [
    "Q15. How to install python on windows and set path variable?\n",
    "Ans. Python is global application and can be downloaded from Google for free of cost. It can be downloaded separately as well as along with Jupyter notebook or anaconda dict. "
   ]
  },
  {
   "cell_type": "markdown",
   "id": "07d3d75c-9fdb-4b6f-98ab-794c56a6e700",
   "metadata": {},
   "source": [
    "Q15. Is indentation required in Python?\n",
    "Ans. It is very much required and if we miss to give correct indentation we will get error. "
   ]
  },
  {
   "cell_type": "code",
   "execution_count": null,
   "id": "5681a53a-2d09-4fdb-9b05-f0022014708c",
   "metadata": {},
   "outputs": [],
   "source": []
  }
 ],
 "metadata": {
  "kernelspec": {
   "display_name": "Python 3 (ipykernel)",
   "language": "python",
   "name": "python3"
  },
  "language_info": {
   "codemirror_mode": {
    "name": "ipython",
    "version": 3
   },
   "file_extension": ".py",
   "mimetype": "text/x-python",
   "name": "python",
   "nbconvert_exporter": "python",
   "pygments_lexer": "ipython3",
   "version": "3.10.8"
  }
 },
 "nbformat": 4,
 "nbformat_minor": 5
}
